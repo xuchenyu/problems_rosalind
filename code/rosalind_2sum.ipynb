{
 "cells": [
  {
   "cell_type": "code",
   "execution_count": null,
   "metadata": {
    "collapsed": true
   },
   "outputs": [],
   "source": [
    "# slightly more efficient\n",
    "\n",
    "def sum2(n, A):\n",
    "    x = {}\n",
    "    for i in range(n):\n",
    "        if -A[i] in x:\n",
    "            return ' '.join(map(str, [x[-A[i]], i+1]))\n",
    "        x[A[i]] = i+1\n",
    "    return -1"
   ]
  },
  {
   "cell_type": "code",
   "execution_count": null,
   "metadata": {
    "collapsed": true
   },
   "outputs": [],
   "source": [
    "def sum2(n, A):\n",
    "    S = sorted(A)\n",
    "    sindex = sorted(range(n), key=lambda i: A[i])\n",
    "    \n",
    "    start = 0\n",
    "    end = n-1\n",
    "    while start < end:\n",
    "        if S[start]+S[end] == 0:\n",
    "            result = map(lambda i: sindex[i]+1, [start, end])\n",
    "            result = ' '.join(map(str, result))\n",
    "            return result\n",
    "        elif S[start]+S[end] > 0:\n",
    "            end -= 1\n",
    "        else:\n",
    "            start += 1\n",
    "    \n",
    "    return '-1'        "
   ]
  },
  {
   "cell_type": "code",
   "execution_count": null,
   "metadata": {
    "collapsed": true
   },
   "outputs": [],
   "source": [
    "def solution(k, n, As):\n",
    "    for i in range(k):\n",
    "        print sum2(n, As[i])"
   ]
  },
  {
   "cell_type": "code",
   "execution_count": null,
   "metadata": {
    "collapsed": false
   },
   "outputs": [],
   "source": [
    "data = open('data/rosalind_2sum.txt', 'r')\n",
    "k, n = map(int, data.readline().split())\n",
    "As = [map(int, A.split()) for A in data.readlines()]\n",
    "solution(k, n, As)"
   ]
  },
  {
   "cell_type": "code",
   "execution_count": null,
   "metadata": {
    "collapsed": true
   },
   "outputs": [],
   "source": []
  }
 ],
 "metadata": {
  "kernelspec": {
   "display_name": "Python 2",
   "language": "python",
   "name": "python2"
  },
  "language_info": {
   "codemirror_mode": {
    "name": "ipython",
    "version": 2
   },
   "file_extension": ".py",
   "mimetype": "text/x-python",
   "name": "python",
   "nbconvert_exporter": "python",
   "pygments_lexer": "ipython2",
   "version": "2.7.8"
  }
 },
 "nbformat": 4,
 "nbformat_minor": 0
}
