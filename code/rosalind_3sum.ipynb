{
 "cells": [
  {
   "cell_type": "code",
   "execution_count": 1,
   "metadata": {
    "collapsed": true
   },
   "outputs": [],
   "source": [
    "def sum3(n, A):\n",
    "    S = sorted(A)\n",
    "    sindex = sorted(range(n), key=lambda i: A[i])\n",
    "    \n",
    "    for i in range(n-2):\n",
    "        start = i+1\n",
    "        end = n-1\n",
    "        while start < end:\n",
    "            if S[i]+S[start]+S[end] == 0:\n",
    "                result = [i, start, end]\n",
    "                result = sorted(map(lambda i: sindex[i]+1, result))\n",
    "                result = ' '.join(map(str, result))\n",
    "                return result\n",
    "            elif S[i]+S[start]+S[end] > 0:\n",
    "                end -= 1\n",
    "            else:\n",
    "                start += 1\n",
    "    \n",
    "    return '-1'"
   ]
  },
  {
   "cell_type": "code",
   "execution_count": 2,
   "metadata": {
    "collapsed": true
   },
   "outputs": [],
   "source": [
    "def solution(k, n, As):\n",
    "    for i in range(k):\n",
    "        print sum3(n, As[i])"
   ]
  },
  {
   "cell_type": "code",
   "execution_count": 3,
   "metadata": {
    "collapsed": false
   },
   "outputs": [
    {
     "name": "stdout",
     "output_type": "stream",
     "text": [
      "-1\n",
      "-1\n",
      "-1\n",
      "-1\n",
      "879 7779 9115\n",
      "8096 9122 9217\n",
      "125 4276 8314\n",
      "588 4377 4914\n",
      "-1\n",
      "-1\n",
      "4487 4645 5574\n",
      "4484 7928 8595\n"
     ]
    }
   ],
   "source": [
    "f = open('data/rosalind_3sum.txt', 'r')\n",
    "k, n = map(int, f.readline().split())\n",
    "As = [map(int, A.split()) for A in f.readlines()]\n",
    "f.close()\n",
    "solution(k, n, As)"
   ]
  },
  {
   "cell_type": "code",
   "execution_count": null,
   "metadata": {
    "collapsed": true
   },
   "outputs": [],
   "source": []
  }
 ],
 "metadata": {
  "kernelspec": {
   "display_name": "Python 2",
   "language": "python",
   "name": "python2"
  },
  "language_info": {
   "codemirror_mode": {
    "name": "ipython",
    "version": 2
   },
   "file_extension": ".py",
   "mimetype": "text/x-python",
   "name": "python",
   "nbconvert_exporter": "python",
   "pygments_lexer": "ipython2",
   "version": "2.7.8"
  }
 },
 "nbformat": 4,
 "nbformat_minor": 0
}
