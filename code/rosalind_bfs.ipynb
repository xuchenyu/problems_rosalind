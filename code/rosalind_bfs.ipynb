{
 "cells": [
  {
   "cell_type": "code",
   "execution_count": null,
   "metadata": {
    "collapsed": true
   },
   "outputs": [],
   "source": [
    "def bfs(n, k, edges):\n",
    "    g = {v: [-1, -1] for v in range(1, n+1)} # [color, distance]\n",
    "    for i in range(k):\n",
    "        v1, v2 = edges[i]\n",
    "        g[v1].append(v2)\n",
    "        \n",
    "    start = 1\n",
    "    g[start][1] = 0\n",
    "    queue = [start]\n",
    "    while len(queue) > 0:\n",
    "        current = queue.pop(0)\n",
    "        for nbr in g[current][2:]:\n",
    "            if g[nbr][0] == -1:\n",
    "                g[nbr][0] = 0\n",
    "                g[nbr][1] = g[current][1]+1\n",
    "                queue.append(nbr)\n",
    "        g[current][0] = 1\n",
    "    \n",
    "    for v in range(1, n+1):\n",
    "        print g[v][1],"
   ]
  },
  {
   "cell_type": "code",
   "execution_count": null,
   "metadata": {
    "collapsed": false
   },
   "outputs": [],
   "source": [
    "f = open('data/rosalind_bfs.txt', 'r')\n",
    "n, k = map(int, f.readline().split())\n",
    "edges = [map(int, line.split()) for line in f]\n",
    "f.close()\n",
    "bfs(n, k, edges)"
   ]
  },
  {
   "cell_type": "code",
   "execution_count": null,
   "metadata": {
    "collapsed": true
   },
   "outputs": [],
   "source": []
  }
 ],
 "metadata": {
  "kernelspec": {
   "display_name": "Python 2",
   "language": "python",
   "name": "python2"
  },
  "language_info": {
   "codemirror_mode": {
    "name": "ipython",
    "version": 2
   },
   "file_extension": ".py",
   "mimetype": "text/x-python",
   "name": "python",
   "nbconvert_exporter": "python",
   "pygments_lexer": "ipython2",
   "version": "2.7.8"
  }
 },
 "nbformat": 4,
 "nbformat_minor": 0
}
