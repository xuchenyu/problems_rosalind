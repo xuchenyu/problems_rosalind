{
 "cells": [
  {
   "cell_type": "code",
   "execution_count": null,
   "metadata": {
    "collapsed": false
   },
   "outputs": [],
   "source": [
    "def bins(n, A, k):\n",
    "    first = 0\n",
    "    last = n-1\n",
    "    while first <= last:\n",
    "        mid = (first+last)/2\n",
    "        if A[mid] == k:\n",
    "            return mid\n",
    "        elif A[mid] > k:\n",
    "            last = mid-1\n",
    "        elif A[mid] < k:\n",
    "            first = mid +1\n",
    "    return -1"
   ]
  },
  {
   "cell_type": "code",
   "execution_count": null,
   "metadata": {
    "collapsed": true
   },
   "outputs": [],
   "source": [
    "def solution(n, m, A, K):\n",
    "    for mi in range(m):\n",
    "        print bins(n, A, K[mi]),"
   ]
  },
  {
   "cell_type": "code",
   "execution_count": null,
   "metadata": {
    "collapsed": false
   },
   "outputs": [],
   "source": [
    "f = open('data/rosalind_bins.txt', 'r')\n",
    "n = int(f.readline())\n",
    "m = int(f.readline())\n",
    "A = map(int, f.readline().split())\n",
    "K = map(int, f.readline().split())\n",
    "f.close()\n",
    "solution(n, m, A, K)"
   ]
  },
  {
   "cell_type": "code",
   "execution_count": null,
   "metadata": {
    "collapsed": true
   },
   "outputs": [],
   "source": []
  }
 ],
 "metadata": {
  "kernelspec": {
   "display_name": "Python 2",
   "language": "python",
   "name": "python2"
  },
  "language_info": {
   "codemirror_mode": {
    "name": "ipython",
    "version": 2
   },
   "file_extension": ".py",
   "mimetype": "text/x-python",
   "name": "python",
   "nbconvert_exporter": "python",
   "pygments_lexer": "ipython2",
   "version": "2.7.8"
  }
 },
 "nbformat": 4,
 "nbformat_minor": 0
}
