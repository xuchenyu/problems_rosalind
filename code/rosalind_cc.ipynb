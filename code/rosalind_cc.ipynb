{
 "cells": [
  {
   "cell_type": "code",
   "execution_count": null,
   "metadata": {
    "collapsed": false
   },
   "outputs": [],
   "source": [
    "def cc(n, k, edges):\n",
    "    g = {i+1: [-1, -1] for i in range(n)}  # color, predecessor\n",
    "    for i in range(k):\n",
    "        v1, v2 = edges[i]\n",
    "        g[v1].append(v2)\n",
    "        g[v2].append(v1) \n",
    "    for v in g:\n",
    "        if g[v][0] == -1:\n",
    "            dfs(g, v)\n",
    "    return sum([1 if g[v][1] == -1 else 0 for v in g])   \n",
    "    \n",
    "def dfs(g, start):\n",
    "    stack = [start]\n",
    "    while len(stack) > 0:\n",
    "        current = stack.pop()\n",
    "        for nbr in g[current][2:]:\n",
    "            if g[nbr][0] == -1:\n",
    "                g[nbr][0] = 0\n",
    "                g[nbr][1] = current\n",
    "                stack.append(nbr)\n",
    "        g[current][0] = 1"
   ]
  },
  {
   "cell_type": "code",
   "execution_count": null,
   "metadata": {
    "collapsed": false
   },
   "outputs": [],
   "source": [
    "f = open('data/rosalind_cc.txt', 'r')\n",
    "n, k = map(int, f.readline().split())\n",
    "edges = [map(int, line.split()) for line in f]\n",
    "f.close()\n",
    "cc(n, k, edges)"
   ]
  },
  {
   "cell_type": "code",
   "execution_count": null,
   "metadata": {
    "collapsed": true
   },
   "outputs": [],
   "source": []
  }
 ],
 "metadata": {
  "kernelspec": {
   "display_name": "Python 2",
   "language": "python",
   "name": "python2"
  },
  "language_info": {
   "codemirror_mode": {
    "name": "ipython",
    "version": 2
   },
   "file_extension": ".py",
   "mimetype": "text/x-python",
   "name": "python",
   "nbconvert_exporter": "python",
   "pygments_lexer": "ipython2",
   "version": "2.7.8"
  }
 },
 "nbformat": 4,
 "nbformat_minor": 0
}
