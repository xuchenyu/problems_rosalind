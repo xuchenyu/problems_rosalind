{
 "cells": [
  {
   "cell_type": "code",
   "execution_count": null,
   "metadata": {
    "collapsed": true
   },
   "outputs": [],
   "source": [
    "def dag(n, m, edges):\n",
    "    g = {v: [-1, []] for v in range(1, n+1)}  # color, predecessors\n",
    "    for i in range(m):\n",
    "        v1, v2 = edges[i]\n",
    "        g[v1].append(v2)\n",
    "        \n",
    "    for v in range(1, n+1):\n",
    "        if g[v][0] == -1:\n",
    "            if dfs(g, v):\n",
    "                return -1  # not acyclic\n",
    "    return 1  # acyclic\n",
    "\n",
    "def dfs(g, start):\n",
    "    stack = [start]\n",
    "    while len(stack) > 0:\n",
    "        current = stack.pop()\n",
    "        for nbr in g[current][2:]:\n",
    "            if nbr in g[current][1]:\n",
    "                return True  # there's a cycle\n",
    "            if g[nbr][0] == -1:\n",
    "                g[nbr][0] = 0\n",
    "                g[nbr][1] = g[current][1]+[current]\n",
    "                stack.append(nbr)\n",
    "        g[current][0] = 1\n",
    "    return False  # there's no cycles"
   ]
  },
  {
   "cell_type": "code",
   "execution_count": null,
   "metadata": {
    "collapsed": true
   },
   "outputs": [],
   "source": [
    "def solution(k, graphs):\n",
    "    for i in range(k):\n",
    "        n, m = graphs[i][:2]\n",
    "        edges = graphs[i][2:]\n",
    "        print dag(n, m, edges),"
   ]
  },
  {
   "cell_type": "code",
   "execution_count": null,
   "metadata": {
    "collapsed": false
   },
   "outputs": [],
   "source": [
    "f = open('data/rosalind_dag.txt', 'r')\n",
    "k = int(f.readline())\n",
    "graphs = []\n",
    "for i in range(k):\n",
    "    f.readline()\n",
    "    n, m = map(int, f.readline().split())\n",
    "    graph = [n, m]\n",
    "    for j in range(m):\n",
    "        graph.append(map(int, f.readline().split()))\n",
    "    graphs.append(graph)\n",
    "f.close()\n",
    "solution(k, graphs)"
   ]
  },
  {
   "cell_type": "code",
   "execution_count": null,
   "metadata": {
    "collapsed": true
   },
   "outputs": [],
   "source": []
  }
 ],
 "metadata": {
  "kernelspec": {
   "display_name": "Python 2",
   "language": "python",
   "name": "python2"
  },
  "language_info": {
   "codemirror_mode": {
    "name": "ipython",
    "version": 2
   },
   "file_extension": ".py",
   "mimetype": "text/x-python",
   "name": "python",
   "nbconvert_exporter": "python",
   "pygments_lexer": "ipython2",
   "version": "2.7.8"
  }
 },
 "nbformat": 4,
 "nbformat_minor": 0
}
