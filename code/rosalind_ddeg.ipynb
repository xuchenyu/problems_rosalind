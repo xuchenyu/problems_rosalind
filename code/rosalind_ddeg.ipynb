{
 "cells": [
  {
   "cell_type": "code",
   "execution_count": null,
   "metadata": {
    "collapsed": true
   },
   "outputs": [],
   "source": [
    "def ddeg(n, edges, k):\n",
    "    d = {v:[0] for v in range(1, n+1)}\n",
    "    for v1, v2 in edges:\n",
    "        d[v1].append(v2)\n",
    "        d[v1][0] += 1\n",
    "        d[v2].append(v1)\n",
    "        d[v2][0] += 1\n",
    "    \n",
    "    for v in range(1, n+1):\n",
    "        result = 0\n",
    "        for w in d[v][1:]:\n",
    "            result += d[w][0]\n",
    "        print result,"
   ]
  },
  {
   "cell_type": "code",
   "execution_count": null,
   "metadata": {
    "collapsed": false
   },
   "outputs": [],
   "source": [
    "f = open('data/rosalind_ddeg.txt')\n",
    "n, k = map(int, f.readline().split())\n",
    "edges = [map(int, line.split()) for line in f]\n",
    "ddeg(n, edges, k)"
   ]
  },
  {
   "cell_type": "code",
   "execution_count": null,
   "metadata": {
    "collapsed": true
   },
   "outputs": [],
   "source": []
  }
 ],
 "metadata": {
  "kernelspec": {
   "display_name": "Python 2",
   "language": "python",
   "name": "python2"
  },
  "language_info": {
   "codemirror_mode": {
    "name": "ipython",
    "version": 2
   },
   "file_extension": ".py",
   "mimetype": "text/x-python",
   "name": "python",
   "nbconvert_exporter": "python",
   "pygments_lexer": "ipython2",
   "version": "2.7.8"
  }
 },
 "nbformat": 4,
 "nbformat_minor": 0
}
