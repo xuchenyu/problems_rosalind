{
 "cells": [
  {
   "cell_type": "code",
   "execution_count": null,
   "metadata": {
    "collapsed": false
   },
   "outputs": [],
   "source": [
    "def deg(n, k, pairs):\n",
    "    d = {}\n",
    "    for a, b in pairs:\n",
    "        if a in d:\n",
    "            d[a] += 1\n",
    "        else:\n",
    "            d[a] = 1\n",
    "        if b in d:\n",
    "            d[b] += 1\n",
    "        else:\n",
    "            d[b] = 1\n",
    "    for i in range(1, n+1):\n",
    "        print d[i],"
   ]
  },
  {
   "cell_type": "code",
   "execution_count": null,
   "metadata": {
    "collapsed": false
   },
   "outputs": [],
   "source": [
    "data = open('data/rosalind_deg.txt', 'r')\n",
    "n, k = map(int, data.readline().split())\n",
    "pairs = [map(int, line.split()) for line in data.readlines()]\n",
    "deg(n, k, pairs)"
   ]
  },
  {
   "cell_type": "code",
   "execution_count": null,
   "metadata": {
    "collapsed": true
   },
   "outputs": [],
   "source": []
  }
 ],
 "metadata": {
  "kernelspec": {
   "display_name": "Python 2",
   "language": "python",
   "name": "python2"
  },
  "language_info": {
   "codemirror_mode": {
    "name": "ipython",
    "version": 2
   },
   "file_extension": ".py",
   "mimetype": "text/x-python",
   "name": "python",
   "nbconvert_exporter": "python",
   "pygments_lexer": "ipython2",
   "version": "2.7.8"
  }
 },
 "nbformat": 4,
 "nbformat_minor": 0
}
