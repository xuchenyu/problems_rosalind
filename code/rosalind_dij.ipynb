{
 "cells": [
  {
   "cell_type": "code",
   "execution_count": null,
   "metadata": {
    "collapsed": true
   },
   "outputs": [],
   "source": [
    "import heapq\n",
    "\n",
    "def dij(n, k, edges):\n",
    "    INFTY = 10**6    \n",
    "    g = {v: [INFTY, {}] for v in range(1, n+1)}  # distance\n",
    "    for i in range(k):\n",
    "        v1, v2, d = edges[i]\n",
    "        g[v1][1][v2] = d\n",
    "        \n",
    "    start = 1\n",
    "    g[start][0] = 0\n",
    "    hq = [(g[v][0], v) for v in g]\n",
    "    heapq.heapify(hq)\n",
    "    while len(hq) > 0:\n",
    "        current = heapq.heappop(hq)[1]\n",
    "        for nbr in g[current][1]:\n",
    "            new_d = g[current][0]+g[current][1][nbr]\n",
    "            if new_d < g[nbr][0]:\n",
    "                g[nbr][0] = new_d\n",
    "                hq = [(g[v][0], v) for d, v in hq]\n",
    "                heapq.heapify(hq)\n",
    "                \n",
    "    for v in g:\n",
    "        if g[v][0] == INFTY:\n",
    "            print -1,\n",
    "        else:\n",
    "            print g[v][0],"
   ]
  },
  {
   "cell_type": "code",
   "execution_count": null,
   "metadata": {
    "collapsed": false
   },
   "outputs": [],
   "source": [
    "f = open('data/rosalind_dij.txt', 'r')\n",
    "n, k = map(int, f.readline().split())\n",
    "edges = [map(int, line.split()) for line in f]\n",
    "f.close()\n",
    "dij(n, k, edges)"
   ]
  },
  {
   "cell_type": "code",
   "execution_count": null,
   "metadata": {
    "collapsed": true
   },
   "outputs": [],
   "source": []
  }
 ],
 "metadata": {
  "kernelspec": {
   "display_name": "Python 2",
   "language": "python",
   "name": "python2"
  },
  "language_info": {
   "codemirror_mode": {
    "name": "ipython",
    "version": 2
   },
   "file_extension": ".py",
   "mimetype": "text/x-python",
   "name": "python",
   "nbconvert_exporter": "python",
   "pygments_lexer": "ipython2",
   "version": "2.7.8"
  }
 },
 "nbformat": 4,
 "nbformat_minor": 0
}
