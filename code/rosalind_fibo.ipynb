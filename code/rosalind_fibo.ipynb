{
 "cells": [
  {
   "cell_type": "code",
   "execution_count": 1,
   "metadata": {
    "collapsed": true
   },
   "outputs": [],
   "source": [
    "def fibo(n):\n",
    "    a, b = 0, 1\n",
    "    for i in xrange(n):\n",
    "        a, b = b, a+b\n",
    "    return a"
   ]
  },
  {
   "cell_type": "code",
   "execution_count": 2,
   "metadata": {
    "collapsed": false
   },
   "outputs": [
    {
     "data": {
      "text/plain": [
       "28657"
      ]
     },
     "execution_count": 2,
     "metadata": {},
     "output_type": "execute_result"
    }
   ],
   "source": [
    "data = open('data/rosalind_fibo.txt', 'r')\n",
    "n = int(data.readline())\n",
    "fibo(n)"
   ]
  },
  {
   "cell_type": "code",
   "execution_count": null,
   "metadata": {
    "collapsed": true
   },
   "outputs": [],
   "source": []
  },
  {
   "cell_type": "raw",
   "metadata": {},
   "source": [
    "from rosalind.rosutil import read_int\n",
    "import itertools as it\n",
    "\n",
    "def fibonacci(f1=1L, f2=1L):\n",
    "    '''Fibonacci sequence generator.'''\n",
    "    yield f1; yield f2\n",
    "    while True:\n",
    "        f1, f2 = f2, f1 + f2\n",
    "        yield f2\n",
    "\n",
    "def fibo(file_name):\n",
    "    '''Main call.'''\n",
    "    n = read_int(file_name) \n",
    "    print '%d' % (it.islice(fibonacci(), n - 1, n).next(),)\n",
    "\n",
    "if __name__ == \"__main__\":\n",
    "    fibo('rosalind_fibo_sample.dat')\n",
    "    fibo('rosalind_fibo.dat')"
   ]
  },
  {
   "cell_type": "code",
   "execution_count": null,
   "metadata": {
    "collapsed": true
   },
   "outputs": [],
   "source": []
  },
  {
   "cell_type": "code",
   "execution_count": null,
   "metadata": {
    "collapsed": true
   },
   "outputs": [],
   "source": []
  }
 ],
 "metadata": {
  "kernelspec": {
   "display_name": "Python 2",
   "language": "python",
   "name": "python2"
  },
  "language_info": {
   "codemirror_mode": {
    "name": "ipython",
    "version": 2
   },
   "file_extension": ".py",
   "mimetype": "text/x-python",
   "name": "python",
   "nbconvert_exporter": "python",
   "pygments_lexer": "ipython2",
   "version": "2.7.8"
  }
 },
 "nbformat": 4,
 "nbformat_minor": 0
}
