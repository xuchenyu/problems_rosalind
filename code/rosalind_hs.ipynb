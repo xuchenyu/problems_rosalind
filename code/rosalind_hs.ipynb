{
 "cells": [
  {
   "cell_type": "code",
   "execution_count": null,
   "metadata": {
    "collapsed": true
   },
   "outputs": [],
   "source": [
    "def hea(n, A):\n",
    "    heapList = [0]+A\n",
    "    for i in range(1, n+1):\n",
    "        while i/2 > 0:\n",
    "            if heapList[i] < heapList[i/2]:\n",
    "                heapList[i], heapList[i/2] = heapList[i/2], heapList[i]\n",
    "            i /= 2\n",
    "    return heapList\n",
    "\n",
    "def siftDown(n, heapList):\n",
    "    i = 1\n",
    "    while 2*i <= n:\n",
    "        if 2*i+1 > n:\n",
    "            min_child = 2*i\n",
    "        else:\n",
    "            if heapList[2*i] < heapList[2*i+1]:\n",
    "                min_child = 2*i\n",
    "            else:\n",
    "                min_child = 2*i+1\n",
    "        if heapList[i] > heapList[min_child]:\n",
    "            heapList[i], heapList[min_child] = heapList[min_child], heapList[i]\n",
    "        i *= 2\n",
    "\n",
    "def hs(n, A):\n",
    "    heapList = hea(n, A)\n",
    "    sortList = []\n",
    "    for i in range(n):\n",
    "        sortList.append(heapList.pop(1))\n",
    "        siftDown(n-i-1, heapList)\n",
    "    return sortList"
   ]
  },
  {
   "cell_type": "code",
   "execution_count": null,
   "metadata": {
    "collapsed": false,
    "scrolled": true
   },
   "outputs": [],
   "source": [
    "f = open('data/rosalind_hs.txt', 'r')\n",
    "n = int(f.readline())\n",
    "A = map(int, f.readline().split())\n",
    "f.close()\n",
    "for i in hs(n, A):\n",
    "    print i,"
   ]
  },
  {
   "cell_type": "code",
   "execution_count": null,
   "metadata": {
    "collapsed": true
   },
   "outputs": [],
   "source": []
  }
 ],
 "metadata": {
  "kernelspec": {
   "display_name": "Python 2",
   "language": "python",
   "name": "python2"
  },
  "language_info": {
   "codemirror_mode": {
    "name": "ipython",
    "version": 2
   },
   "file_extension": ".py",
   "mimetype": "text/x-python",
   "name": "python",
   "nbconvert_exporter": "python",
   "pygments_lexer": "ipython2",
   "version": "2.7.8"
  }
 },
 "nbformat": 4,
 "nbformat_minor": 0
}
