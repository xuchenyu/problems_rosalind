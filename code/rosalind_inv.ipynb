{
 "cells": [
  {
   "cell_type": "code",
   "execution_count": 1,
   "metadata": {
    "collapsed": true
   },
   "outputs": [],
   "source": [
    "def inv(n, A):\n",
    "    if n <= 1:\n",
    "        return A, 0\n",
    "    else:\n",
    "        left = A[:n/2]\n",
    "        right = A[n/2:]\n",
    "        left, counterleft = inv(n/2, left)\n",
    "        right, counterright = inv(n-n/2, right)\n",
    "        counter = counterleft + counterright  # counter initially set to the sum of the two parts\n",
    "\n",
    "        i, j = 0, 0\n",
    "        A_new = []\n",
    "        \n",
    "        for i in range(n):\n",
    "            if len(left) > 0 and len(right) > 0:\n",
    "                if left[0] <= right[0]:\n",
    "                    A_new.append(left[0])\n",
    "                    left.pop(0)\n",
    "                else:\n",
    "                    A_new.append(right[0])\n",
    "                    right.pop(0)\n",
    "                    counter += len(left)  # the only case counter should increase!!!\n",
    "            elif len(left) == 0:\n",
    "                A_new.append(right[0])\n",
    "                right.pop(0)\n",
    "            elif len(right) == 0:\n",
    "                A_new.append(left[0])\n",
    "                left.pop(0)\n",
    "            \n",
    "        return A_new, counter"
   ]
  },
  {
   "cell_type": "code",
   "execution_count": 2,
   "metadata": {
    "collapsed": false
   },
   "outputs": [
    {
     "data": {
      "text/plain": [
       "2416506128L"
      ]
     },
     "execution_count": 2,
     "metadata": {},
     "output_type": "execute_result"
    }
   ],
   "source": [
    "f = open('data/rosalind_inv.txt', 'r')\n",
    "n = int(f.readline())\n",
    "A = map(int, f.readline().split())\n",
    "f.close()\n",
    "inv(n, A)[1]"
   ]
  },
  {
   "cell_type": "code",
   "execution_count": null,
   "metadata": {
    "collapsed": true
   },
   "outputs": [],
   "source": []
  }
 ],
 "metadata": {
  "kernelspec": {
   "display_name": "Python 2",
   "language": "python",
   "name": "python2"
  },
  "language_info": {
   "codemirror_mode": {
    "name": "ipython",
    "version": 2
   },
   "file_extension": ".py",
   "mimetype": "text/x-python",
   "name": "python",
   "nbconvert_exporter": "python",
   "pygments_lexer": "ipython2",
   "version": "2.7.8"
  }
 },
 "nbformat": 4,
 "nbformat_minor": 0
}
