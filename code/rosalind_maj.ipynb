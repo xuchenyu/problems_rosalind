{
 "cells": [
  {
   "cell_type": "code",
   "execution_count": null,
   "metadata": {
    "collapsed": true
   },
   "outputs": [],
   "source": [
    "def maj(n, A):\n",
    "    d = {}\n",
    "    for i in xrange(n):\n",
    "        if A[i] in d:\n",
    "            d[A[i]] += 1\n",
    "        else:\n",
    "            d[A[i]] = 1\n",
    "    for key in d:\n",
    "        if d[key] > n/2:\n",
    "            return key\n",
    "    return -1\n",
    "\n",
    "def solution(k, n, As):\n",
    "    for i in range(k):\n",
    "        print maj(n, As[i]),"
   ]
  },
  {
   "cell_type": "code",
   "execution_count": null,
   "metadata": {
    "collapsed": false
   },
   "outputs": [],
   "source": [
    "data = open('data/rosalind_maj.txt', 'r').readlines()\n",
    "k, n = map(int, data[0].split())\n",
    "As = []\n",
    "for A in data[1:]:\n",
    "    As.append(map(int, A.split()))\n",
    "solution(k, n, As)"
   ]
  },
  {
   "cell_type": "code",
   "execution_count": null,
   "metadata": {
    "collapsed": true
   },
   "outputs": [],
   "source": []
  },
  {
   "cell_type": "raw",
   "metadata": {
    "collapsed": true
   },
   "source": [
    "# Boyer–Moore algorithm\n",
    "\n",
    "def maj(n, A):\n",
    "    candidate = A[0]\n",
    "    counter = 0\n",
    "    for element in A:\n",
    "        if element == candidate:\n",
    "            counter += 1\n",
    "        else:\n",
    "            counter -= 1\n",
    "        if counter == 0:\n",
    "            candidate = element\n",
    "            counter = 1\n",
    "    return candidate if A.count(candidate)>n/2 else -1"
   ]
  },
  {
   "cell_type": "code",
   "execution_count": null,
   "metadata": {
    "collapsed": true
   },
   "outputs": [],
   "source": []
  }
 ],
 "metadata": {
  "kernelspec": {
   "display_name": "Python 2",
   "language": "python",
   "name": "python2"
  },
  "language_info": {
   "codemirror_mode": {
    "name": "ipython",
    "version": 2
   },
   "file_extension": ".py",
   "mimetype": "text/x-python",
   "name": "python",
   "nbconvert_exporter": "python",
   "pygments_lexer": "ipython2",
   "version": "2.7.8"
  }
 },
 "nbformat": 4,
 "nbformat_minor": 0
}
