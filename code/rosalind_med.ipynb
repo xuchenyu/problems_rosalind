{
 "cells": [
  {
   "cell_type": "code",
   "execution_count": null,
   "metadata": {
    "collapsed": true
   },
   "outputs": [],
   "source": [
    "def partition(n, A):\n",
    "    pivotvalue = A[0]\n",
    "    AL, AM, AR = [], [], []\n",
    "    nL = nM = nR = 0\n",
    "    for i in range(n):\n",
    "        currentvalue = A[i]\n",
    "        if currentvalue < pivotvalue:\n",
    "            AL.append(currentvalue)\n",
    "            nL += 1\n",
    "        elif currentvalue == pivotvalue:\n",
    "            AM.append(currentvalue)\n",
    "            nM += 1\n",
    "        else:\n",
    "            AR.append(currentvalue)\n",
    "            nR += 1\n",
    "    return {-1: (nL, AL), 0: (nM, AM), 1: (nR, AR)}"
   ]
  },
  {
   "cell_type": "code",
   "execution_count": null,
   "metadata": {
    "collapsed": true
   },
   "outputs": [],
   "source": [
    "def med(n, A, k):\n",
    "    if n <= 0 or k <=0 or k > n:\n",
    "        return None\n",
    "    else:\n",
    "        temp = partition(n, A)\n",
    "        if k <= temp[-1][0]:\n",
    "            return med(temp[-1][0], temp[-1][1], k)\n",
    "        elif k <= temp[-1][0]+temp[0][0]:\n",
    "            return temp[0][1][0]\n",
    "        else:\n",
    "            return med(temp[1][0], temp[1][1], k-temp[-1][0]-temp[0][0])"
   ]
  },
  {
   "cell_type": "code",
   "execution_count": null,
   "metadata": {
    "collapsed": false
   },
   "outputs": [],
   "source": [
    "f = open('data/rosalind_med.txt', 'r')\n",
    "n = int(f.readline())\n",
    "A = map(int, f.readline().split())\n",
    "k = int(f.readline())\n",
    "f.close()\n",
    "med(n, A, k)"
   ]
  },
  {
   "cell_type": "code",
   "execution_count": null,
   "metadata": {
    "collapsed": true
   },
   "outputs": [],
   "source": []
  }
 ],
 "metadata": {
  "kernelspec": {
   "display_name": "Python 2",
   "language": "python",
   "name": "python2"
  },
  "language_info": {
   "codemirror_mode": {
    "name": "ipython",
    "version": 2
   },
   "file_extension": ".py",
   "mimetype": "text/x-python",
   "name": "python",
   "nbconvert_exporter": "python",
   "pygments_lexer": "ipython2",
   "version": "2.7.8"
  }
 },
 "nbformat": 4,
 "nbformat_minor": 0
}
