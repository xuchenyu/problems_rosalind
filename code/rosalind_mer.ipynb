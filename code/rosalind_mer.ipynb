{
 "cells": [
  {
   "cell_type": "code",
   "execution_count": null,
   "metadata": {
    "collapsed": true
   },
   "outputs": [],
   "source": [
    "def mer(n, A, m, B):\n",
    "    i = j = 0\n",
    "    C = []\n",
    "    while i < n and j < m:\n",
    "        if A[i] < B[j]:\n",
    "            C.append(A[i])\n",
    "            i += 1\n",
    "        else:\n",
    "            C.append(B[j])\n",
    "            j += 1\n",
    "    while i < n:\n",
    "        C.append(A[i])\n",
    "        i += 1\n",
    "    while j < m:\n",
    "        C.append(B[j])\n",
    "        j += 1\n",
    "    return C"
   ]
  },
  {
   "cell_type": "code",
   "execution_count": null,
   "metadata": {
    "collapsed": false,
    "scrolled": true
   },
   "outputs": [],
   "source": [
    "data = open('data/rosalind_mer.txt', 'r')\n",
    "n = int(data.readline())\n",
    "A = map(int, data.readline().split())\n",
    "m = int(data.readline())\n",
    "B = map(int, data.readline().split())\n",
    "result = mer(n, A, m, B)\n",
    "for item in result:\n",
    "    print item,"
   ]
  },
  {
   "cell_type": "code",
   "execution_count": null,
   "metadata": {
    "collapsed": true
   },
   "outputs": [],
   "source": []
  }
 ],
 "metadata": {
  "kernelspec": {
   "display_name": "Python 2",
   "language": "python",
   "name": "python2"
  },
  "language_info": {
   "codemirror_mode": {
    "name": "ipython",
    "version": 2
   },
   "file_extension": ".py",
   "mimetype": "text/x-python",
   "name": "python",
   "nbconvert_exporter": "python",
   "pygments_lexer": "ipython2",
   "version": "2.7.8"
  }
 },
 "nbformat": 4,
 "nbformat_minor": 0
}
