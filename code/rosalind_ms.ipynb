{
 "cells": [
  {
   "cell_type": "code",
   "execution_count": null,
   "metadata": {
    "collapsed": true
   },
   "outputs": [],
   "source": [
    "def ms(n, A):\n",
    "    if n > 1:\n",
    "        mid = n/2\n",
    "        left = A[:mid]\n",
    "        right = A[mid:]\n",
    "        nleft = n/2\n",
    "        nright = n-n/2\n",
    "        ms(nleft, left)\n",
    "        ms(nright, right)\n",
    "        \n",
    "        i = j = k = 0\n",
    "        while i < nleft and j < nright:\n",
    "            if left[i] < right[j]:\n",
    "                A[k] = left[i]\n",
    "                i += 1\n",
    "                k += 1\n",
    "            else:\n",
    "                A[k] = right[j]\n",
    "                j += 1\n",
    "                k += 1\n",
    "        while i < nleft:\n",
    "            A[k] = left[i]\n",
    "            i += 1\n",
    "            k += 1\n",
    "        while j < nright:\n",
    "            A[k] = right[j]\n",
    "            j += 1\n",
    "            k += 1"
   ]
  },
  {
   "cell_type": "code",
   "execution_count": null,
   "metadata": {
    "collapsed": false,
    "scrolled": false
   },
   "outputs": [],
   "source": [
    "f = open('data/rosalind_ms.txt', 'r')\n",
    "n = int(f.readline())\n",
    "A = map(int, f.readline().split())\n",
    "f.close()\n",
    "ms(n, A)\n",
    "for i in A:\n",
    "    print i,"
   ]
  },
  {
   "cell_type": "code",
   "execution_count": null,
   "metadata": {
    "collapsed": true
   },
   "outputs": [],
   "source": []
  }
 ],
 "metadata": {
  "kernelspec": {
   "display_name": "Python 2",
   "language": "python",
   "name": "python2"
  },
  "language_info": {
   "codemirror_mode": {
    "name": "ipython",
    "version": 2
   },
   "file_extension": ".py",
   "mimetype": "text/x-python",
   "name": "python",
   "nbconvert_exporter": "python",
   "pygments_lexer": "ipython2",
   "version": "2.7.8"
  }
 },
 "nbformat": 4,
 "nbformat_minor": 0
}
