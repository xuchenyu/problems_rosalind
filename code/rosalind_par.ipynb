{
 "cells": [
  {
   "cell_type": "code",
   "execution_count": null,
   "metadata": {
    "collapsed": true
   },
   "outputs": [],
   "source": [
    "def par(n, A):\n",
    "    pivotvalue = A[0]\n",
    "    leftmark = 1\n",
    "    rightmark = n-1\n",
    "    done = False\n",
    "    while not done:\n",
    "        while leftmark <= rightmark and A[leftmark] <= pivotvalue:\n",
    "            leftmark = leftmark + 1\n",
    "        while leftmark <= rightmark and A[rightmark] >= pivotvalue:\n",
    "            rightmark = rightmark -1\n",
    "        if leftmark > rightmark:\n",
    "            done = True\n",
    "        else:\n",
    "            A[leftmark], A[rightmark] = A[rightmark], A[leftmark]\n",
    "    A[0], A[rightmark] = A[rightmark], A[0]\n",
    "    return A"
   ]
  },
  {
   "cell_type": "code",
   "execution_count": null,
   "metadata": {
    "collapsed": false,
    "scrolled": false
   },
   "outputs": [],
   "source": [
    "f = open('data/rosalind_par.txt', 'r')\n",
    "n = int(f.readline())\n",
    "A = map(int, f.readline().split())\n",
    "f.close()\n",
    "for i in par(n, A):\n",
    "    print i,"
   ]
  },
  {
   "cell_type": "code",
   "execution_count": null,
   "metadata": {
    "collapsed": true
   },
   "outputs": [],
   "source": []
  }
 ],
 "metadata": {
  "kernelspec": {
   "display_name": "Python 2",
   "language": "python",
   "name": "python2"
  },
  "language_info": {
   "codemirror_mode": {
    "name": "ipython",
    "version": 2
   },
   "file_extension": ".py",
   "mimetype": "text/x-python",
   "name": "python",
   "nbconvert_exporter": "python",
   "pygments_lexer": "ipython2",
   "version": "2.7.8"
  }
 },
 "nbformat": 4,
 "nbformat_minor": 0
}
