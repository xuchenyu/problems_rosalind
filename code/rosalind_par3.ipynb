{
 "cells": [
  {
   "cell_type": "code",
   "execution_count": null,
   "metadata": {
    "collapsed": true
   },
   "outputs": [],
   "source": [
    "def par3(n, A):\n",
    "    leftmarker = 1\n",
    "    rightmarker = n-1\n",
    "    pivotvalue = A[0]\n",
    "    \n",
    "    done = False\n",
    "    while not done:\n",
    "        while leftmarker <= rightmarker and A[leftmarker] <= pivotvalue:\n",
    "            leftmarker += 1\n",
    "        while leftmarker <= rightmarker and A[rightmarker] >= pivotvalue:\n",
    "            rightmarker -= 1\n",
    "        if leftmarker > rightmarker:\n",
    "            done = True\n",
    "        else:\n",
    "            A[leftmarker], A[rightmarker] = A[rightmarker], A[leftmarker]\n",
    "    A[0], A[rightmarker] = A[rightmarker], A[0]\n",
    "    \n",
    "    pivotmarker = rightmarker\n",
    "    \n",
    "    leftmarker = 0\n",
    "    i = 0\n",
    "    while leftmarker < pivotmarker-i:\n",
    "        if A[leftmarker] == pivotvalue:\n",
    "            i += 1\n",
    "            A[leftmarker], A[pivotmarker-i] = A[pivotmarker-i], A[leftmarker]\n",
    "        leftmarker += 1\n",
    "        \n",
    "    rightmarker = n-1\n",
    "    i = 0\n",
    "    while rightmarker > pivotmarker+i:\n",
    "        if A[rightmarker] == pivotvalue:\n",
    "            i += 1\n",
    "            A[rightmarker], A[pivotmarker+i] = A[pivotmarker+i], A[rightmarker]\n",
    "        rightmarker -= 1\n",
    "    \n",
    "    return A"
   ]
  },
  {
   "cell_type": "code",
   "execution_count": null,
   "metadata": {
    "collapsed": false
   },
   "outputs": [],
   "source": [
    "par3(9, [4,5,6,4,1,2,5,7,4])"
   ]
  },
  {
   "cell_type": "code",
   "execution_count": null,
   "metadata": {
    "collapsed": false,
    "scrolled": false
   },
   "outputs": [],
   "source": [
    "f = open('data/rosalind_par3.txt', 'r')\n",
    "n = int(f.readline())\n",
    "A = map(int, f.readline().split())\n",
    "f.close()\n",
    "for i in par3(n, A):\n",
    "    print i,"
   ]
  },
  {
   "cell_type": "code",
   "execution_count": null,
   "metadata": {
    "collapsed": true
   },
   "outputs": [],
   "source": []
  }
 ],
 "metadata": {
  "kernelspec": {
   "display_name": "Python 2",
   "language": "python",
   "name": "python2"
  },
  "language_info": {
   "codemirror_mode": {
    "name": "ipython",
    "version": 2
   },
   "file_extension": ".py",
   "mimetype": "text/x-python",
   "name": "python",
   "nbconvert_exporter": "python",
   "pygments_lexer": "ipython2",
   "version": "2.7.8"
  }
 },
 "nbformat": 4,
 "nbformat_minor": 0
}
