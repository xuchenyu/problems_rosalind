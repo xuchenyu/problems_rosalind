{
 "cells": [
  {
   "cell_type": "code",
   "execution_count": null,
   "metadata": {
    "collapsed": true
   },
   "outputs": [],
   "source": [
    "def hea(n, A):\n",
    "    for i in range(1, n):\n",
    "        while i >= 1 and A[i] < A[(i-1)/2]:\n",
    "            A[i], A[(i-1)/2] = A[(i-1)/2], A[i]\n",
    "            i = (i-1)/2"
   ]
  },
  {
   "cell_type": "code",
   "execution_count": null,
   "metadata": {
    "collapsed": true
   },
   "outputs": [],
   "source": [
    "def ps(n, A, k):\n",
    "    B = []\n",
    "    i = n\n",
    "    while i > n-k:\n",
    "        hea(i, A)\n",
    "        B.append(A[0])\n",
    "        A[0] = A[i-1]\n",
    "        A.pop()\n",
    "        i -= 1\n",
    "    return B"
   ]
  },
  {
   "cell_type": "code",
   "execution_count": null,
   "metadata": {
    "collapsed": false
   },
   "outputs": [],
   "source": [
    "f = open('data/rosalind_ps.txt', 'r')\n",
    "n = int(f.readline())\n",
    "A = map(int, f.readline().split())\n",
    "k = int(f.readline())\n",
    "f.close()\n",
    "for i in ps(n, A, k):\n",
    "    print i,"
   ]
  },
  {
   "cell_type": "code",
   "execution_count": null,
   "metadata": {
    "collapsed": true
   },
   "outputs": [],
   "source": []
  }
 ],
 "metadata": {
  "kernelspec": {
   "display_name": "Python 2",
   "language": "python",
   "name": "python2"
  },
  "language_info": {
   "codemirror_mode": {
    "name": "ipython",
    "version": 2
   },
   "file_extension": ".py",
   "mimetype": "text/x-python",
   "name": "python",
   "nbconvert_exporter": "python",
   "pygments_lexer": "ipython2",
   "version": "2.7.8"
  }
 },
 "nbformat": 4,
 "nbformat_minor": 0
}
