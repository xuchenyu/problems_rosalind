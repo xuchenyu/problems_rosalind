{
 "cells": [
  {
   "cell_type": "code",
   "execution_count": null,
   "metadata": {
    "collapsed": true
   },
   "outputs": [],
   "source": [
    "def partition(A, first, last):\n",
    "    current = A[first]\n",
    "    leftmark = first+1\n",
    "    rightmark = last   \n",
    "    done = False\n",
    "    while not done:\n",
    "        while leftmark <= rightmark and A[leftmark] <= current:\n",
    "            leftmark += 1\n",
    "        while leftmark <= rightmark and A[rightmark] >= current:\n",
    "            rightmark -= 1\n",
    "        if leftmark > rightmark:\n",
    "            done = True\n",
    "        else:\n",
    "            A[leftmark], A[rightmark] = A[rightmark], A[leftmark]\n",
    "    A[0], A[rightmark] = A[rightmark], A[0]\n",
    "    return rightmark"
   ]
  },
  {
   "cell_type": "code",
   "execution_count": null,
   "metadata": {
    "collapsed": true
   },
   "outputs": [],
   "source": [
    "def qs_helper(A, first, last):\n",
    "    if first < last:\n",
    "        splitpoint = partition(A, first, last)        \n",
    "        qs_helper(A, first, splitpoint-1)\n",
    "        qs_helper(A, splitpoint+1, last)\n",
    "\n",
    "def qs(n, A):\n",
    "    qs_helper(A, 0, n-1)"
   ]
  },
  {
   "cell_type": "code",
   "execution_count": null,
   "metadata": {
    "collapsed": false,
    "scrolled": false
   },
   "outputs": [],
   "source": [
    "f = open('data/rosalind_qs.txt', 'r')\n",
    "n = int(f.readline())\n",
    "A = map(int, f.readline().split())\n",
    "for i in sorted(A):\n",
    "    print i,"
   ]
  },
  {
   "cell_type": "code",
   "execution_count": null,
   "metadata": {
    "collapsed": true
   },
   "outputs": [],
   "source": []
  }
 ],
 "metadata": {
  "kernelspec": {
   "display_name": "Python 2",
   "language": "python",
   "name": "python2"
  },
  "language_info": {
   "codemirror_mode": {
    "name": "ipython",
    "version": 2
   },
   "file_extension": ".py",
   "mimetype": "text/x-python",
   "name": "python",
   "nbconvert_exporter": "python",
   "pygments_lexer": "ipython2",
   "version": "2.7.8"
  }
 },
 "nbformat": 4,
 "nbformat_minor": 0
}
