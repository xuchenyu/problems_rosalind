{
 "cells": [
  {
   "cell_type": "code",
   "execution_count": null,
   "metadata": {
    "collapsed": false
   },
   "outputs": [],
   "source": [
    "def sq(n, m, edges):\n",
    "    g = {v: [-1, []] for v in range(1, n+1)}  # color, predecessors\n",
    "    for i in range(m):\n",
    "        v1, v2 = edges[i]\n",
    "        g[v1].append(v2)\n",
    "        g[v2].append(v1)\n",
    "        \n",
    "    for v in range(1, n+1):\n",
    "        if g[v][0] == -1:\n",
    "            if dfs(g, v):\n",
    "                return 1\n",
    "    return -1\n",
    "\n",
    "def dfs(g, start):\n",
    "    #print g\n",
    "    g[start][0] = 1\n",
    "    for nbr in g[start][2:]:\n",
    "        if len(g[start][1]) == 3 and nbr == g[start][1][0]:\n",
    "            return True\n",
    "        if g[nbr][0] == -1 and not dfs(g, nbr):\n",
    "            g[nbr][1] = g[start][1]+[start]\n",
    "    #return True\n",
    "            \n",
    "\"\"\"\n",
    "def dfs(g, start):\n",
    "    stack = [start]\n",
    "    while len(stack) > 0:\n",
    "        print g\n",
    "        current = stack.pop()\n",
    "        for nbr in g[current][2:]:\n",
    "            if len(g[current][1]) == 3 and nbr == g[current][1][0]:\n",
    "                return True  # contains simple square\n",
    "            if g[nbr][0] == -1:\n",
    "                g[nbr][0] = 0\n",
    "                g[nbr][1] = g[current][1]+[current]\n",
    "                stack.append(nbr)\n",
    "        g[current][0] = 1\n",
    "    return False  # doesn't contain simple square\n",
    "\"\"\""
   ]
  },
  {
   "cell_type": "code",
   "execution_count": null,
   "metadata": {
    "collapsed": true
   },
   "outputs": [],
   "source": [
    "def solution(k, graphs):\n",
    "    for i in range(k):\n",
    "        n, m = graphs[i][:2]\n",
    "        edges = graphs[i][2:]\n",
    "        print sq(n, m, edges),"
   ]
  },
  {
   "cell_type": "code",
   "execution_count": null,
   "metadata": {
    "collapsed": false
   },
   "outputs": [],
   "source": [
    "f = open('data/rosalind_sq.txt', 'r')\n",
    "k = int(f.readline())\n",
    "graphs = []\n",
    "for i in range(k):\n",
    "    f.readline()\n",
    "    n, m = map(int, f.readline().split())\n",
    "    graph = [n, m]\n",
    "    for j in range(m):\n",
    "        graph.append(map(int, f.readline().split()))\n",
    "    graphs.append(graph)\n",
    "f.close()\n",
    "solution(k, graphs)"
   ]
  },
  {
   "cell_type": "code",
   "execution_count": null,
   "metadata": {
    "collapsed": true
   },
   "outputs": [],
   "source": []
  }
 ],
 "metadata": {
  "kernelspec": {
   "display_name": "Python 2",
   "language": "python",
   "name": "python2"
  },
  "language_info": {
   "codemirror_mode": {
    "name": "ipython",
    "version": 2
   },
   "file_extension": ".py",
   "mimetype": "text/x-python",
   "name": "python",
   "nbconvert_exporter": "python",
   "pygments_lexer": "ipython2",
   "version": "2.7.8"
  }
 },
 "nbformat": 4,
 "nbformat_minor": 0
}
