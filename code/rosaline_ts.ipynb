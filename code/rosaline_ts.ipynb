{
 "cells": [
  {
   "cell_type": "code",
   "execution_count": null,
   "metadata": {
    "collapsed": false
   },
   "outputs": [],
   "source": [
    "def ts(n, k, edges):\n",
    "    g = {v: [-1, -1, -1] for v in range(1, n+1)} # color, discovery time, finish time\n",
    "    for i in range(k):\n",
    "        v1, v2 = edges[i]\n",
    "        g[v1].append(v2)\n",
    "    time = 0\n",
    "    for v in g:\n",
    "        if g[v][0] == -1:\n",
    "            time = dfs(g, v, time)\n",
    "    result = sorted([(g[v][2], v) for v in g], reverse=True)\n",
    "    for item in result:\n",
    "        print item[1],\n",
    "\n",
    "def dfs(g, start, time):\n",
    "    g[start][0] = 0\n",
    "    time += 1\n",
    "    g[start][1] = time\n",
    "    for nbr in g[start][3:]:\n",
    "        if g[nbr][0] == -1:\n",
    "            time = dfs(g, nbr, time)\n",
    "    g[start][0] = 1\n",
    "    time += 1\n",
    "    g[start][2] = time\n",
    "    return time"
   ]
  },
  {
   "cell_type": "code",
   "execution_count": null,
   "metadata": {
    "collapsed": false
   },
   "outputs": [],
   "source": [
    "f = open('data/rosalind_ts.txt', 'r')\n",
    "n, k = map(int, f.readline().split())\n",
    "edges = [map(int, line.split()) for line in f]\n",
    "f.close()\n",
    "ts(n, k, edges)"
   ]
  },
  {
   "cell_type": "code",
   "execution_count": null,
   "metadata": {
    "collapsed": true
   },
   "outputs": [],
   "source": []
  }
 ],
 "metadata": {
  "kernelspec": {
   "display_name": "Python 2",
   "language": "python",
   "name": "python2"
  },
  "language_info": {
   "codemirror_mode": {
    "name": "ipython",
    "version": 2
   },
   "file_extension": ".py",
   "mimetype": "text/x-python",
   "name": "python",
   "nbconvert_exporter": "python",
   "pygments_lexer": "ipython2",
   "version": "2.7.8"
  }
 },
 "nbformat": 4,
 "nbformat_minor": 0
}
